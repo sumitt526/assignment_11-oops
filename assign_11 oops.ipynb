{
 "cells": [
  {
   "cell_type": "code",
   "execution_count": null,
   "id": "cc99bc24-6fdd-4e3b-8214-7bb22ad9d4fb",
   "metadata": {},
   "outputs": [],
   "source": [
    "#qsn1 solution:-\n",
    "\"\"\" open() function is used to open a file, by default the file is opened in reading text mode unless you give the mode to open a file.\n",
    "    there are different modes available to open a file as listed below:-\n",
    "    'r' :->  open for reading a file (default). ex:-> open(\"test.txt\", \"r\")\n",
    "    \n",
    "    'w' :->  open for writing a file by truncating the file first. ex:-> open(\"test.txt\", \"w\")\n",
    "    \n",
    "    'x' :->  it creates a new file and open it for writing. ex:-> open(\"test.txt\", \"x\")\n",
    "    \n",
    "    'a' :->  open for writing, appending to the end of the file if it exists. ex:-> open(\"test.txt\", \"a\")\n",
    "    \n",
    "    'b' :->  binary mode. ex:-> open(\"test.bin\", \"rb\")\n",
    "    \n",
    "    't' :->  text mode (default). ex:-> open(\"test.txt\", \"t\")\n",
    "    \n",
    "    '+' :->  open a disk file for updating (reading and writing)\n",
    "    \n",
    "    'U' :->  universal newline mode (deprecated)\n",
    "\"\"\""
   ]
  },
  {
   "cell_type": "code",
   "execution_count": null,
   "id": "2e8ab6ed-ae83-4675-943d-2eb67f0c59cd",
   "metadata": {},
   "outputs": [],
   "source": [
    "#qsn2 solution:-\n",
    "\"\"\" close() function is used to close the file and save the data we have given to the file that is opened without any buffering.\n",
    "    it is important to close our files because in some cases, due to buffering changes made to a file may not show until you close the file.\n",
    "    \n",
    "\"\"\""
   ]
  },
  {
   "cell_type": "code",
   "execution_count": 26,
   "id": "0a666505-0e99-46a1-8bd2-f5632ecf1eee",
   "metadata": {},
   "outputs": [],
   "source": [
    "#qsn3 solution:-\n",
    "\n",
    "f = open(\"test.txt\", \"w\")"
   ]
  },
  {
   "cell_type": "code",
   "execution_count": 27,
   "id": "352d645f-f634-43cc-a2e1-b04253d08750",
   "metadata": {},
   "outputs": [
    {
     "data": {
      "text/plain": [
       "33"
      ]
     },
     "execution_count": 27,
     "metadata": {},
     "output_type": "execute_result"
    }
   ],
   "source": [
    "f.write(\"I want to become a Data Scientist\")"
   ]
  },
  {
   "cell_type": "code",
   "execution_count": 28,
   "id": "f877becb-b8e2-4b62-880a-b35cf0845e80",
   "metadata": {},
   "outputs": [],
   "source": [
    "f.close()"
   ]
  },
  {
   "cell_type": "code",
   "execution_count": 29,
   "id": "8608bc50-acf6-4134-b78a-bd1152609e3a",
   "metadata": {},
   "outputs": [],
   "source": [
    "f = open(\"test.txt\", \"r\")"
   ]
  },
  {
   "cell_type": "code",
   "execution_count": 30,
   "id": "cc8d64c2-b666-40ce-9f04-9dc23315219e",
   "metadata": {},
   "outputs": [
    {
     "data": {
      "text/plain": [
       "'I want to become a Data Scientist'"
      ]
     },
     "execution_count": 30,
     "metadata": {},
     "output_type": "execute_result"
    }
   ],
   "source": [
    "f.read()"
   ]
  },
  {
   "cell_type": "code",
   "execution_count": 31,
   "id": "ef84346c-16b7-4eb8-b067-7927631565eb",
   "metadata": {},
   "outputs": [],
   "source": [
    "f.close()"
   ]
  },
  {
   "cell_type": "code",
   "execution_count": null,
   "id": "87d339e3-7755-4ffb-b57b-58b85b6551a4",
   "metadata": {},
   "outputs": [],
   "source": [
    "#qsn4 solution:-\n",
    "\"\"\"\n",
    "the read() returns the specific number of bytes from the file.\n",
    "let's see an example:-\"\"\""
   ]
  },
  {
   "cell_type": "code",
   "execution_count": 10,
   "id": "372c09b0-375d-410f-91e5-9e84894a376f",
   "metadata": {},
   "outputs": [],
   "source": [
    "f = open(\"test1.txt\", \"w\")"
   ]
  },
  {
   "cell_type": "code",
   "execution_count": 11,
   "id": "01febf4b-8c11-4c3b-ab07-dd0992e8df66",
   "metadata": {},
   "outputs": [
    {
     "data": {
      "text/plain": [
       "308"
      ]
     },
     "execution_count": 11,
     "metadata": {},
     "output_type": "execute_result"
    }
   ],
   "source": [
    "f.write(\"i want to become the wolrd's best MLops engineer, this is my dream hope with the help of this course i can build the strong basic foundation that is needed to achieve my dream role. moreover i would say this course is really very fantastic it is great honour for me to be a part of this course and pw family.\")"
   ]
  },
  {
   "cell_type": "code",
   "execution_count": 12,
   "id": "afaf38f5-f063-4819-92ed-0b80cfa574ea",
   "metadata": {},
   "outputs": [],
   "source": [
    "f.close()"
   ]
  },
  {
   "cell_type": "code",
   "execution_count": 13,
   "id": "af82b48e-50b5-4a93-af22-818e293f552d",
   "metadata": {},
   "outputs": [],
   "source": [
    "f = open(\"test1.txt\", \"r\")"
   ]
  },
  {
   "cell_type": "code",
   "execution_count": 14,
   "id": "7df068a8-2b91-4552-a804-9962e9d5c0fd",
   "metadata": {},
   "outputs": [
    {
     "data": {
      "text/plain": [
       "\"i want to become the wolrd's best MLops engineer, this is my dream hope with the help of this course i can build the strong basic foundation that is needed to achieve my dream role. moreover i would say this course is really very fantastic it is great honour for me to be a part of this course and pw family.\""
      ]
     },
     "execution_count": 14,
     "metadata": {},
     "output_type": "execute_result"
    }
   ],
   "source": [
    "f.read()"
   ]
  },
  {
   "cell_type": "code",
   "execution_count": 16,
   "id": "07507af5-e054-4074-b2d8-8c261b69c1dc",
   "metadata": {},
   "outputs": [
    {
     "data": {
      "text/plain": [
       "20"
      ]
     },
     "execution_count": 16,
     "metadata": {},
     "output_type": "execute_result"
    }
   ],
   "source": [
    "f.seek(20)"
   ]
  },
  {
   "cell_type": "code",
   "execution_count": 17,
   "id": "c10bdfa0-d0e9-4fa2-b0a5-878b0a2bff46",
   "metadata": {},
   "outputs": [
    {
     "data": {
      "text/plain": [
       "\" wolrd's best MLops engineer, this is my dream hope with the help of this course i can build the strong basic foundation that is needed to achieve my dream role. moreover i would say this course is really very fantastic it is great honour for me to be a part of this course and pw family.\""
      ]
     },
     "execution_count": 17,
     "metadata": {},
     "output_type": "execute_result"
    }
   ],
   "source": [
    "f.read()"
   ]
  },
  {
   "cell_type": "code",
   "execution_count": null,
   "id": "a7f3dc52-1faa-498c-be3f-23f65e84a12e",
   "metadata": {},
   "outputs": [],
   "source": [
    "#                                readline() method will return a line from the file when called."
   ]
  },
  {
   "cell_type": "code",
   "execution_count": 20,
   "id": "0336e519-bb09-4a2c-9597-4e7d9303b36a",
   "metadata": {},
   "outputs": [
    {
     "data": {
      "text/plain": [
       "0"
      ]
     },
     "execution_count": 20,
     "metadata": {},
     "output_type": "execute_result"
    }
   ],
   "source": [
    "f.seek(0)"
   ]
  },
  {
   "cell_type": "code",
   "execution_count": 21,
   "id": "d3ff8e68-e221-4623-aaeb-df20c052de01",
   "metadata": {},
   "outputs": [
    {
     "data": {
      "text/plain": [
       "\"i want to become the wolrd's best MLops engineer, this is my dream hope with the help of this course i can build the strong basic foundation that is needed to achieve my dream role. moreover i would say this course is really very fantastic it is great honour for me to be a part of this course and pw family.\""
      ]
     },
     "execution_count": 21,
     "metadata": {},
     "output_type": "execute_result"
    }
   ],
   "source": [
    "f.readline()"
   ]
  },
  {
   "cell_type": "code",
   "execution_count": null,
   "id": "886b90de-ae5b-4c3c-ae1d-d283a5d403ae",
   "metadata": {},
   "outputs": [],
   "source": [
    "#   readlines() method will return all the lines in a file in the format of a list where each element is a line in the file."
   ]
  },
  {
   "cell_type": "code",
   "execution_count": 23,
   "id": "f015e58a-6330-478f-b714-87304099d34d",
   "metadata": {},
   "outputs": [
    {
     "data": {
      "text/plain": [
       "0"
      ]
     },
     "execution_count": 23,
     "metadata": {},
     "output_type": "execute_result"
    }
   ],
   "source": [
    "f.seek(0)"
   ]
  },
  {
   "cell_type": "code",
   "execution_count": 24,
   "id": "624c8f03-6a84-414c-ba4a-bacecfd5bb0b",
   "metadata": {},
   "outputs": [
    {
     "data": {
      "text/plain": [
       "[\"i want to become the wolrd's best MLops engineer, this is my dream hope with the help of this course i can build the strong basic foundation that is needed to achieve my dream role. moreover i would say this course is really very fantastic it is great honour for me to be a part of this course and pw family.\"]"
      ]
     },
     "execution_count": 24,
     "metadata": {},
     "output_type": "execute_result"
    }
   ],
   "source": [
    "f.readlines()"
   ]
  },
  {
   "cell_type": "code",
   "execution_count": 25,
   "id": "b50beb09-d804-4ea4-bc86-b85e57b82422",
   "metadata": {},
   "outputs": [],
   "source": [
    "f.close()"
   ]
  },
  {
   "cell_type": "code",
   "execution_count": null,
   "id": "7608d662-3462-488b-af27-21b6e95f1bc5",
   "metadata": {},
   "outputs": [],
   "source": [
    "#qsn5 solution:-\n",
    "\"\"\"\n",
    "with statement is used with open() function to open and close a file, the advantage of using with statement and open() together is that unlike\n",
    "open() function where we have to close a file with close() method the with statement closes the file for you without you telling it to close.\n",
    "because with statement calls two inbuilt methods behind the scene:-> i.e, __enter()__ and __exit()__.\n",
    "\"\"\"\n"
   ]
  },
  {
   "cell_type": "code",
   "execution_count": null,
   "id": "d5ae6ada-1f78-4617-9e3c-7f3cc7401d3e",
   "metadata": {},
   "outputs": [],
   "source": [
    "#qsn6 solution:-\n",
    "\"\"\"\n",
    "write() function is used to write the string data in the opened file. The write() method writes a specified text to the file.\n",
    "Where the specified text will be inserted depends on the file mode and stream position.\n",
    "example:-> f.write(\"hey this is to is the, is the this is to\").\n",
    "The writelines() method writes the items of a list to the file. Where the texts will be inserted depends on the file mode and stream position.\n",
    "exxample:-> f.writelines([\"ohh yeah that's good\"])"
   ]
  },
  {
   "cell_type": "code",
   "execution_count": 1,
   "id": "c65903b3-683e-4ec6-84d4-60a01b5df0d6",
   "metadata": {},
   "outputs": [],
   "source": [
    "t = open(\"test2.txt\", \"w\")"
   ]
  },
  {
   "cell_type": "code",
   "execution_count": 3,
   "id": "433a6335-eb9c-4c77-8ae9-6893fff3859f",
   "metadata": {},
   "outputs": [
    {
     "data": {
      "text/plain": [
       "308"
      ]
     },
     "execution_count": 3,
     "metadata": {},
     "output_type": "execute_result"
    }
   ],
   "source": [
    "t.write(\"i want to become the wolrd's best MLops engineer, this is my dream hope with the help of this course i can build the strong basic foundation that is needed to achieve my dream role. moreover i would say this course is really very fantastic it is great honour for me to be a part of this course and pw family.\")"
   ]
  },
  {
   "cell_type": "code",
   "execution_count": 5,
   "id": "6b56ad68-d41a-41b6-bf95-1fcd7b77a259",
   "metadata": {},
   "outputs": [],
   "source": [
    "t.writelines([\"i want to become the wolrd's best MLops engineer, this is my dream hope with the help of this course i can build the strong basic foundation that is needed to achieve my dream role. moreover i would say this course is really very fantastic it is great honour for me to be a part of this course and pw family.\"])"
   ]
  },
  {
   "cell_type": "code",
   "execution_count": 6,
   "id": "c5af18d2-b246-424b-8796-2985a881a60f",
   "metadata": {},
   "outputs": [],
   "source": [
    "t.close()"
   ]
  },
  {
   "cell_type": "code",
   "execution_count": 7,
   "id": "701c21a1-cf9d-43cd-ba19-7a31d15431b3",
   "metadata": {},
   "outputs": [],
   "source": [
    "t = open(\"test2.txt\", \"r\")"
   ]
  },
  {
   "cell_type": "code",
   "execution_count": 8,
   "id": "5980520c-c2a8-4a8f-98c3-6ddcb885fa8c",
   "metadata": {},
   "outputs": [
    {
     "data": {
      "text/plain": [
       "\"i want to become the wolrd's best MLops engineer, this is my dream hope with the help of this course i can build the strong basic foundation that is needed to achieve my dream role. moreover i would say this course is really very fantastic it is great honour for me to be a part of this course and pw family.i want to become the wolrd's best MLops engineer, this is my dream hope with the help of this course i can build the strong basic foundation that is needed to achieve my dream role. moreover i would say this course is really very fantastic it is great honour for me to be a part of this course and pw family.\""
      ]
     },
     "execution_count": 8,
     "metadata": {},
     "output_type": "execute_result"
    }
   ],
   "source": [
    "t.read()"
   ]
  },
  {
   "cell_type": "code",
   "execution_count": 9,
   "id": "3c3b1150-753d-4f2b-9df6-ba94ba15637d",
   "metadata": {},
   "outputs": [],
   "source": [
    "t.close()"
   ]
  },
  {
   "cell_type": "code",
   "execution_count": null,
   "id": "805ba05b-5c12-4a1e-a235-243658651d74",
   "metadata": {},
   "outputs": [],
   "source": []
  }
 ],
 "metadata": {
  "kernelspec": {
   "display_name": "Python 3 (ipykernel)",
   "language": "python",
   "name": "python3"
  },
  "language_info": {
   "codemirror_mode": {
    "name": "ipython",
    "version": 3
   },
   "file_extension": ".py",
   "mimetype": "text/x-python",
   "name": "python",
   "nbconvert_exporter": "python",
   "pygments_lexer": "ipython3",
   "version": "3.10.8"
  }
 },
 "nbformat": 4,
 "nbformat_minor": 5
}
